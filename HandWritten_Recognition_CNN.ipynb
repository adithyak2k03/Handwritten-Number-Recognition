{
  "cells": [
    {
      "cell_type": "code",
      "execution_count": 1,
      "metadata": {
        "id": "D7U02zt_c8Ft"
      },
      "outputs": [],
      "source": [
        "import numpy as np\n",
        "from keras.datasets import mnist\n",
        "from keras.layers import Conv2D,MaxPooling2D,Flatten,Dense,Dropout\n",
        "from keras.models import Sequential\n",
        "from keras.utils import to_categorical"
      ]
    },
    {
      "cell_type": "code",
      "execution_count": 2,
      "metadata": {
        "id": "ejfQluMac8Fw"
      },
      "outputs": [],
      "source": [
        "(X_train,y_train),(X_test,y_test)=mnist.load_data()"
      ]
    },
    {
      "cell_type": "code",
      "execution_count": 3,
      "metadata": {
        "colab": {
          "base_uri": "https://localhost:8080/",
          "height": 465
        },
        "id": "5jUCkrJMb9uF",
        "outputId": "0544a6df-6823-4d0c-d734-f37bf49358b7"
      },
      "outputs": [
        {
          "output_type": "stream",
          "name": "stdout",
          "text": [
            "Training data:\n"
          ]
        },
        {
          "output_type": "display_data",
          "data": {
            "text/plain": [
              "<Figure size 640x480 with 1 Axes>"
            ],
            "image/png": "[encoded data removed]"
          },
          "metadata": {}
        },
        {
          "output_type": "stream",
          "name": "stdout",
          "text": [
            "Label of this image is 9\n"
          ]
        }
      ],
      "source": [
        "import matplotlib.pyplot as plt\n",
        "print(\"Training data:\")\n",
        "plt.imshow(X_train[4])\n",
        "plt.show()\n",
        "print(\"Label of this image is\",y_train[4])"
      ]
    },
    {
      "cell_type": "code",
      "execution_count": 4,
      "metadata": {
        "colab": {
          "base_uri": "https://localhost:8080/"
        },
        "id": "Nw6B0K2Jc8Fz",
        "outputId": "a6fc27eb-1286-4b16-e768-8720b4224aae"
      },
      "outputs": [
        {
          "output_type": "execute_result",
          "data": {
            "text/plain": [
              "((60000, 28, 28, 1), (10000, 28, 28, 1), (60000,), (10000,))"
            ]
          },
          "metadata": {},
          "execution_count": 4
        }
      ],
      "source": [
        "#reshaping data as needed by the model\n",
        "X_train=np.reshape(X_train,(-1,28,28,1))\n",
        "X_test=np.reshape(X_test,(-1,28,28,1))\n",
        "X_train.shape,X_test.shape,y_train.shape,y_test.shape"
      ]
    },
    {
      "cell_type": "code",
      "execution_count": 5,
      "metadata": {
        "id": "O_JncxhQARaI"
      },
      "outputs": [],
      "source": [
        "#normalising\n",
        "X_train=X_train/255\n",
        "X_test=X_test/255"
      ]
    },
    {
      "cell_type": "code",
      "execution_count": 6,
      "metadata": {
        "id": "lnvVkc6ec8F3"
      },
      "outputs": [],
      "source": [
        "#implementing one hot encoding\n",
        "y_train = to_categorical(y_train, num_classes=10)\n",
        "y_test = to_categorical(y_test, num_classes=10)"
      ]
    },
    {
      "cell_type": "code",
      "execution_count": 6,
      "metadata": {
        "id": "Pkvwf0pLc8F5"
      },
      "outputs": [],
      "source": []
    },
    {
      "cell_type": "code",
      "execution_count": 7,
      "metadata": {
        "id": "Z-ltHdtbc8F7"
      },
      "outputs": [],
      "source": [
        "model=Sequential()"
      ]
    },
    {
      "cell_type": "code",
      "execution_count": 7,
      "metadata": {
        "id": "9HwMYc_fc8F9"
      },
      "outputs": [],
      "source": []
    },
    {
      "cell_type": "code",
      "execution_count": 8,
      "metadata": {
        "id": "W6sDtwOec8GB"
      },
      "outputs": [],
      "source": [
        "model.add(Conv2D(32,kernel_size=5,strides=1,padding=\"Same\",activation=\"relu\",input_shape=(28,28,1)))\n",
        "model.add(MaxPooling2D(padding=\"same\"))\n",
        "\n",
        "model.add(Conv2D(64,kernel_size=5,strides=1,padding=\"same\",activation=\"relu\"))\n",
        "model.add(MaxPooling2D(padding=\"same\"))\n",
        "\n",
        "model.add(Flatten())\n",
        "\n",
        "model.add(Dense(1024,activation=\"relu\"))\n",
        "model.add(Dropout(0.2))\n",
        "model.add(Dense(10,activation=\"sigmoid\"))"
      ]
    },
    {
      "cell_type": "code",
      "execution_count": 9,
      "metadata": {
        "id": "TUQetKGHc8GE"
      },
      "outputs": [],
      "source": [
        "model.compile(optimizer=\"adam\",loss=\"categorical_crossentropy\",metrics=[\"accuracy\"])"
      ]
    },
    {
      "cell_type": "code",
      "execution_count": 10,
      "metadata": {
        "colab": {
          "base_uri": "https://localhost:8080/"
        },
        "id": "KYU-n7F9c8GH",
        "outputId": "f0f0086e-07f0-4814-c1ff-a7d0bb33ff85"
      },
      "outputs": [
        {
          "output_type": "stream",
          "name": "stdout",
          "text": [
            "Epoch 1/5\n",
            "600/600 [==============================] - 13s 10ms/step - loss: 0.1275 - accuracy: 0.9606 - val_loss: 0.0493 - val_accuracy: 0.9849\n",
            "Epoch 2/5\n",
            "600/600 [==============================] - 7s 11ms/step - loss: 0.0394 - accuracy: 0.9877 - val_loss: 0.0264 - val_accuracy: 0.9903\n",
            "Epoch 3/5\n",
            "600/600 [==============================] - 4s 7ms/step - loss: 0.0259 - accuracy: 0.9915 - val_loss: 0.0247 - val_accuracy: 0.9920\n",
            "Epoch 4/5\n",
            "600/600 [==============================] - 3s 6ms/step - loss: 0.0201 - accuracy: 0.9936 - val_loss: 0.0277 - val_accuracy: 0.9912\n",
            "Epoch 5/5\n",
            "600/600 [==============================] - 4s 6ms/step - loss: 0.0153 - accuracy: 0.9951 - val_loss: 0.0242 - val_accuracy: 0.9917\n"
          ]
        },
        {
          "output_type": "execute_result",
          "data": {
            "text/plain": [
              "<keras.src.callbacks.History at 0x78e3b097b550>"
            ]
          },
          "metadata": {},
          "execution_count": 10
        }
      ],
      "source": [
        "model.fit(X_train,y_train,batch_size=100,epochs=5,validation_data=(X_test,y_test))"
      ]
    },
    {
      "cell_type": "code",
      "execution_count": 11,
      "metadata": {
        "colab": {
          "base_uri": "https://localhost:8080/"
        },
        "id": "X9rt0HiFc8GK",
        "outputId": "e744622a-e3fa-4ac9-edf1-bb24357e6494"
      },
      "outputs": [
        {
          "output_type": "stream",
          "name": "stdout",
          "text": [
            "1875/1875 [==============================] - 6s 3ms/step - loss: 0.0087 - accuracy: 0.9974\n",
            "Train loss and Accuracy  [0.008686361834406853, 0.9974166750907898]\n",
            "\n",
            "313/313 [==============================] - 1s 4ms/step - loss: 0.0242 - accuracy: 0.9917\n",
            "Test loss and Accuracy  [0.024246945977211, 0.9916999936103821]\n"
          ]
        }
      ],
      "source": [
        "#model train and test scores\n",
        "print(\"Train loss and Accuracy \",model.evaluate(X_train,y_train))\n",
        "print()\n",
        "\n",
        "print(\"Test loss and Accuracy \",model.evaluate(X_test,y_test))\n"
      ]
    },
    {
      "cell_type": "code",
      "execution_count": 12,
      "metadata": {
        "colab": {
          "base_uri": "https://localhost:8080/",
          "height": 447
        },
        "id": "BDFTLyYXiYRp",
        "outputId": "c6ff3465-52df-4734-a68e-6d584a218dc0"
      },
      "outputs": [
        {
          "output_type": "execute_result",
          "data": {
            "text/plain": [
              "<matplotlib.image.AxesImage at 0x78e3b05676a0>"
            ]
          },
          "metadata": {},
          "execution_count": 12
        },
        {
          "output_type": "display_data",
          "data": {
            "text/plain": [
              "<Figure size 640x480 with 1 Axes>"
            ],
            "image/png": "[encoded data removed]"
          },
          "metadata": {}
        }
      ],
      "source": [
        "plt.imshow(X_train[4])"
      ]
    },
    {
      "cell_type": "code",
      "source": [
        "a=model.predict(X_train[4:5])"
      ],
      "metadata": {
        "colab": {
          "base_uri": "https://localhost:8080/"
        },
        "id": "WJWejocgkygd",
        "outputId": "cdc518d8-8721-4aaf-dc91-f50ec8495355"
      },
      "execution_count": 13,
      "outputs": [
        {
          "output_type": "stream",
          "name": "stdout",
          "text": [
            "1/1 [==============================] - 0s 140ms/step\n"
          ]
        }
      ]
    },
    {
      "cell_type": "code",
      "source": [
        "sum=0\n",
        "for i in a[0]:\n",
        "  sum+=i\n",
        "print(\"Total Sum is \",sum,\"\\n\")\n",
        "\n",
        "sno=0\n",
        "max=-1\n",
        "for i in a[0]:\n",
        "  if(max<i/sum): max=i/sum\n",
        "\n",
        "  print(sno,i/sum)\n",
        "  sno+=1\n",
        "print(\"\\nmax is \",max)"
      ],
      "metadata": {
        "colab": {
          "base_uri": "https://localhost:8080/"
        },
        "id": "yKeg1SF_l7Kx",
        "outputId": "6d0fc8a6-b897-4380-bb33-836c7fce6249"
      },
      "execution_count": 14,
      "outputs": [
        {
          "output_type": "stream",
          "name": "stdout",
          "text": [
            "Total Sum is  3.1053730579760668 \n",
            "\n",
            "0 4.8968842051562825e-06\n",
            "1 0.0011713486360599426\n",
            "2 6.107044385611039e-05\n",
            "3 0.020674727187304204\n",
            "4 0.3150500180363507\n",
            "5 6.579676454793748e-05\n",
            "6 1.576572691276784e-06\n",
            "7 0.028413251786803567\n",
            "8 0.3125348122590768\n",
            "9 0.3220225014291043\n",
            "\n",
            "max is  0.3220225014291043\n"
          ]
        }
      ]
    },
    {
      "cell_type": "markdown",
      "source": [
        "#Therefore the prediction is 9."
      ],
      "metadata": {
        "id": "UGfqF9PRoQzo"
      }
    }
  ],
  "metadata": {
    "accelerator": "GPU",
    "colab": {
      "provenance": [],
      "gpuType": "T4"
    },
    "kernelspec": {
      "display_name": "Python 3",
      "name": "python3"
    },
    "language_info": {
      "codemirror_mode": {
        "name": "ipython",
        "version": 3
      },
      "file_extension": ".py",
      "mimetype": "text/x-python",
      "name": "python",
      "nbconvert_exporter": "python",
      "pygments_lexer": "ipython3",
      "version": "3.11.4"
    }
  },
  "nbformat": 4,
  "nbformat_minor": 0
}